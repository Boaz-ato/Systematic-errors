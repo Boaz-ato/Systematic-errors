{
 "cells": [
  {
   "cell_type": "code",
   "execution_count": 1,
   "id": "a3ad0891",
   "metadata": {},
   "outputs": [],
   "source": [
    "from matplotlib import pyplot as plt\n",
    "import numpy as np\n",
    "from iminuit import Minuit\n",
    "from scipy.stats import norm\n",
    "from scipy import integrate"
   ]
  },
  {
   "cell_type": "code",
   "execution_count": 2,
   "id": "884a86a8",
   "metadata": {},
   "outputs": [],
   "source": [
    "higgs_mass1 = np.loadtxt(\"datafile-higgs.txt\")\n"
   ]
  },
  {
   "cell_type": "code",
   "execution_count": 3,
   "id": "323dcff0",
   "metadata": {},
   "outputs": [
    {
     "data": {
      "image/png": "[encoded data removed]",
      "text/plain": [
       "<Figure size 640x480 with 1 Axes>"
      ]
     },
     "metadata": {},
     "output_type": "display_data"
    }
   ],
   "source": [
    "n, bins, patches = plt.hist(higgs_mass1, 50, density=True, facecolor='g', alpha=0.75)\n",
    "\n",
    "\n",
    "plt.xlabel('Mass')\n",
    "plt.ylabel('Probability')\n",
    "plt.title('Histogram distrubution of mass of a particle')\n",
    "plt.grid(True)\n",
    "plt.show()"
   ]
  },
  {
   "cell_type": "code",
   "execution_count": 4,
   "id": "73f679e5",
   "metadata": {},
   "outputs": [],
   "source": [
    "class higgs_mass:\n",
    "    def __init__(self, mass, xmin,xmax, mean, sigma):\n",
    "        self.mass = mass\n",
    "        self.xmin = xmin\n",
    "        self.xmax = xmax\n",
    "        self.mean = mean\n",
    "        self.sigma =sigma\n",
    "    \n",
    "    def fit_1(self,f ,A,M ): # method for exponential background and gaussian signal\n",
    "\n",
    "        expo_bgb = lambda x, A: np.exp(-x/A)\n",
    "\n",
    "        normalise = integrate.quad(expo_bgb, self.xmin, self.xmax, args=(A))\n",
    "\n",
    "        y2 = (1/normalise[0])*(np.exp(-self.mass/A))\n",
    "\n",
    "\n",
    "        \n",
    "        gauss = norm.pdf(self.mass, loc= M , scale = self.sigma) \n",
    "        \n",
    "        self.expo_bgb = f*y2 +(1-f)*gauss   # saves the prediction of the model with the best parameters \n",
    "\n",
    "        pdf_combined = np.log((f)*y2 + (1-f)*gauss)\n",
    "\n",
    "        nnl_combined = -np.sum(pdf_combined)\n",
    "\n",
    "        self.log1 = nnl_combined\n",
    "        return nnl_combined \n",
    "\n",
    "    \n",
    "    \n",
    "    def fit_2(self,b, c ,M, f):  # method for secomnd order polynomial background and Gaussian signal\n",
    "        \n",
    "        a =1\n",
    "        poly_bgb = lambda x, a , b , c: a + b*x + c*(x**2) \n",
    "\n",
    "        normalise = integrate.quad(poly_bgb, self.xmin, self.xmax, args=(a , b, c))\n",
    "\n",
    "        y2 = (1/normalise[0])* (1 + b*self.mass + c*(self.mass**2))\n",
    "        \n",
    "        \n",
    "\n",
    "\n",
    "        \n",
    "        gauss = norm.pdf(self.mass, loc= M , scale = self.sigma) \n",
    "        \n",
    "        gauss_poly = (f)*y2 + (1-f)*gauss\n",
    "        \n",
    "        gauss_poly[gauss_poly < 0.0] = 0.001 \n",
    "        \n",
    "        self.gauss_poly = gauss_poly\n",
    "\n",
    "        pdf_combined = np.log(gauss_poly)\n",
    "        \n",
    "        \n",
    "        \n",
    "\n",
    "        nnl_combined = -np.sum(pdf_combined)\n",
    "        \n",
    "\n",
    "        self.log2 = nnl_combined\n",
    "        return nnl_combined  \n",
    "    \n",
    "    \n",
    "    def fit_3(self,b,M, f):  # method for linear background and gausian signal\n",
    "        \n",
    "        a =1\n",
    "        linear_bgb = lambda x, a , b : a + b*x \n",
    "\n",
    "        normalise = integrate.quad(linear_bgb, self.xmin, self.xmax, args=(a , b))\n",
    "\n",
    "        y2 = (1/normalise[0])* (1 + b*self.mass )\n",
    "        \n",
    "        \n",
    "\n",
    "\n",
    "        \n",
    "        gauss = norm.pdf(self.mass, loc= M , scale = self.sigma) \n",
    "        \n",
    "        gauss_poly = (f)*y2 + (1-f)*gauss\n",
    "        \n",
    "        gauss_poly[gauss_poly < 0.0] = 0.001 \n",
    "        \n",
    "        self.gauss_linear = gauss_poly\n",
    "\n",
    "        pdf_combined = np.log(gauss_poly)\n",
    "        \n",
    "        \n",
    "        \n",
    "\n",
    "        nnl_combined = -np.sum(pdf_combined)\n",
    "        \n",
    "\n",
    "        self.log3 = nnl_combined\n",
    "        \n",
    "        return nnl_combined  \n",
    "        "
   ]
  },
  {
   "cell_type": "markdown",
   "id": "48d5d3d5",
   "metadata": {},
   "source": [
    "### Part 1"
   ]
  },
  {
   "cell_type": "code",
   "execution_count": 5,
   "id": "4e9423c9",
   "metadata": {},
   "outputs": [],
   "source": [
    "pdf1 =  higgs_mass(higgs_mass1,0, 10, 2.5 ,0.2)"
   ]
  },
  {
   "cell_type": "code",
   "execution_count": 6,
   "id": "46aab375",
   "metadata": {},
   "outputs": [
    {
     "data": {
      "text/html": [
       "<table>\n",
       "    <tr>\n",
       "        <th colspan=\"5\" style=\"text-align:center\" title=\"Minimizer\"> Migrad </th>\n",
       "    </tr>\n",
       "    <tr>\n",
       "        <td colspan=\"2\" style=\"text-align:left\" title=\"Minimum value of function\"> FCN = 2.146e+05 </td>\n",
       "        <td colspan=\"3\" style=\"text-align:center\" title=\"Total number of function and (optional) gradient evaluations\"> Nfcn = 78 </td>\n",
       "    </tr>\n",
       "    <tr>\n",
       "        <td colspan=\"2\" style=\"text-align:left\" title=\"Estimated distance to minimum and goal\"> EDM = 1.55e-06 (Goal: 0.0001) </td>\n",
       "        <td colspan=\"3\" style=\"text-align:center\" title=\"Total run time of algorithms\"> time = 0.6 sec </td>\n",
       "    </tr>\n",
       "    <tr>\n",
       "        <td colspan=\"2\" style=\"text-align:center;background-color:#92CCA6;color:black\"> Valid Minimum </td>\n",
       "        <td colspan=\"3\" style=\"text-align:center;background-color:#92CCA6;color:black\"> No Parameters at limit </td>\n",
       "    </tr>\n",
       "    <tr>\n",
       "        <td colspan=\"2\" style=\"text-align:center;background-color:#92CCA6;color:black\"> Below EDM threshold (goal x 10) </td>\n",
       "        <td colspan=\"3\" style=\"text-align:center;background-color:#92CCA6;color:black\"> Below call limit </td>\n",
       "    </tr>\n",
       "    <tr>\n",
       "        <td style=\"text-align:center;background-color:#92CCA6;color:black\"> Covariance </td>\n",
       "        <td style=\"text-align:center;background-color:#92CCA6;color:black\"> Hesse ok </td>\n",
       "        <td style=\"text-align:center;background-color:#92CCA6;color:black\" title=\"Is covariance matrix accurate?\"> Accurate </td>\n",
       "        <td style=\"text-align:center;background-color:#92CCA6;color:black\" title=\"Is covariance matrix positive definite?\"> Pos. def. </td>\n",
       "        <td style=\"text-align:center;background-color:#92CCA6;color:black\" title=\"Was positive definiteness enforced by Minuit?\"> Not forced </td>\n",
       "    </tr>\n",
       "</table><table>\n",
       "    <tr>\n",
       "        <td></td>\n",
       "        <th title=\"Variable name\"> Name </th>\n",
       "        <th title=\"Value of parameter\"> Value </th>\n",
       "        <th title=\"Hesse error\"> Hesse Error </th>\n",
       "        <th title=\"Minos lower error\"> Minos Error- </th>\n",
       "        <th title=\"Minos upper error\"> Minos Error+ </th>\n",
       "        <th title=\"Lower limit of the parameter\"> Limit- </th>\n",
       "        <th title=\"Upper limit of the parameter\"> Limit+ </th>\n",
       "        <th title=\"Is the parameter fixed in the fit\"> Fixed </th>\n",
       "    </tr>\n",
       "    <tr>\n",
       "        <th> 0 </th>\n",
       "        <td> f </td>\n",
       "        <td> 0.9796 </td>\n",
       "        <td> 0.0012 </td>\n",
       "        <td>  </td>\n",
       "        <td>  </td>\n",
       "        <td>  </td>\n",
       "        <td>  </td>\n",
       "        <td>  </td>\n",
       "    </tr>\n",
       "    <tr>\n",
       "        <th> 1 </th>\n",
       "        <td> A </td>\n",
       "        <td> 5.008 </td>\n",
       "        <td> 0.031 </td>\n",
       "        <td>  </td>\n",
       "        <td>  </td>\n",
       "        <td>  </td>\n",
       "        <td>  </td>\n",
       "        <td>  </td>\n",
       "    </tr>\n",
       "    <tr>\n",
       "        <th> 2 </th>\n",
       "        <td> M </td>\n",
       "        <td> 2.499 </td>\n",
       "        <td> 0.015 </td>\n",
       "        <td>  </td>\n",
       "        <td>  </td>\n",
       "        <td>  </td>\n",
       "        <td>  </td>\n",
       "        <td>  </td>\n",
       "    </tr>\n",
       "</table><table>\n",
       "    <tr>\n",
       "        <td></td>\n",
       "        <th> f </th>\n",
       "        <th> A </th>\n",
       "        <th> M </th>\n",
       "    </tr>\n",
       "    <tr>\n",
       "        <th> f </th>\n",
       "        <td> 1.33e-06 </td>\n",
       "        <td style=\"background-color:rgb(235,235,250);color:black\"> -4.01e-06 <strong>(-0.113)</strong> </td>\n",
       "        <td style=\"background-color:rgb(250,244,244);color:black\"> 7e-07 <strong>(0.042)</strong> </td>\n",
       "    </tr>\n",
       "    <tr>\n",
       "        <th> A </th>\n",
       "        <td style=\"background-color:rgb(235,235,250);color:black\"> -4.01e-06 <strong>(-0.113)</strong> </td>\n",
       "        <td> 0.000945 </td>\n",
       "        <td style=\"background-color:rgb(245,245,250);color:black\"> -1.7e-05 <strong>(-0.038)</strong> </td>\n",
       "    </tr>\n",
       "    <tr>\n",
       "        <th> M </th>\n",
       "        <td style=\"background-color:rgb(250,244,244);color:black\"> 7e-07 <strong>(0.042)</strong> </td>\n",
       "        <td style=\"background-color:rgb(245,245,250);color:black\"> -1.7e-05 <strong>(-0.038)</strong> </td>\n",
       "        <td> 0.000212 </td>\n",
       "    </tr>\n",
       "</table>"
      ],
      "text/plain": [
       "┌─────────────────────────────────────────────────────────────────────────┐\n",
       "│                                Migrad                                   │\n",
       "├──────────────────────────────────┬──────────────────────────────────────┤\n",
       "│ FCN = 2.146e+05                  │              Nfcn = 78               │\n",
       "│ EDM = 1.55e-06 (Goal: 0.0001)    │            time = 0.6 sec            │\n",
       "├──────────────────────────────────┼──────────────────────────────────────┤\n",
       "│          Valid Minimum           │        No Parameters at limit        │\n",
       "├──────────────────────────────────┼──────────────────────────────────────┤\n",
       "│ Below EDM threshold (goal x 10)  │           Below call limit           │\n",
       "├───────────────┬──────────────────┼───────────┬─────────────┬────────────┤\n",
       "│  Covariance   │     Hesse ok     │ Accurate  │  Pos. def.  │ Not forced │\n",
       "└───────────────┴──────────────────┴───────────┴─────────────┴────────────┘\n",
       "┌───┬──────┬───────────┬───────────┬────────────┬────────────┬─────────┬─────────┬───────┐\n",
       "│   │ Name │   Value   │ Hesse Err │ Minos Err- │ Minos Err+ │ Limit-  │ Limit+  │ Fixed │\n",
       "├───┼──────┼───────────┼───────────┼────────────┼────────────┼─────────┼─────────┼───────┤\n",
       "│ 0 │ f    │  0.9796   │  0.0012   │            │            │         │         │       │\n",
       "│ 1 │ A    │   5.008   │   0.031   │            │            │         │         │       │\n",
       "│ 2 │ M    │   2.499   │   0.015   │            │            │         │         │       │\n",
       "└───┴──────┴───────────┴───────────┴────────────┴────────────┴─────────┴─────────┴───────┘\n",
       "┌───┬───────────────────────────────┐\n",
       "│   │         f         A         M │\n",
       "├───┼───────────────────────────────┤\n",
       "│ f │  1.33e-06 -4.01e-06     7e-07 │\n",
       "│ A │ -4.01e-06  0.000945  -1.7e-05 │\n",
       "│ M │     7e-07  -1.7e-05  0.000212 │\n",
       "└───┴───────────────────────────────┘"
      ]
     },
     "execution_count": 6,
     "metadata": {},
     "output_type": "execute_result"
    }
   ],
   "source": [
    "startvals ={'f' : 0.97, 'A' : 5.2 ,'M' : 2.1}\n",
    "m = Minuit(pdf1.fit_1, **startvals)\n",
    "m.errordef = 0.5\n",
    "m.migrad()  "
   ]
  },
  {
   "cell_type": "code",
   "execution_count": 7,
   "id": "4f1ee1ff",
   "metadata": {},
   "outputs": [
    {
     "data": {
      "text/plain": [
       "[0.979605564525648, 5.007817585441475, 2.4985567538499494]"
      ]
     },
     "execution_count": 7,
     "metadata": {},
     "output_type": "execute_result"
    }
   ],
   "source": [
    "expo_params = list(m.values)\n",
    "expo_params"
   ]
  },
  {
   "cell_type": "code",
   "execution_count": 8,
   "id": "cc67dc2f",
   "metadata": {},
   "outputs": [],
   "source": [
    "expo_params_err = list(m.errors)"
   ]
  },
  {
   "cell_type": "markdown",
   "id": "f79f1477",
   "metadata": {},
   "source": [
    "The best fit values for the for the mass distribution modelled by an exponential background and a Gaussian peak are:\n",
    "<ul>\n",
    "    <li> Mean of Gaussain peak signal = 2.50 ± 0.01 </li>\n",
    "    <li> Fraction of background signal = 0.980 ± 0.001 </li>\n",
    "    <li> Exponential factor, A = 5.01 ± 0.03 </li>\n",
    "</ul>"
   ]
  },
  {
   "cell_type": "code",
   "execution_count": 9,
   "id": "a1719d33",
   "metadata": {},
   "outputs": [
    {
     "data": {
      "image/png": "[encoded data removed]",
      "text/plain": [
       "<Figure size 640x480 with 1 Axes>"
      ]
     },
     "metadata": {},
     "output_type": "display_data"
    }
   ],
   "source": [
    "plt.scatter(pdf1.mass, pdf1.expo_bgb, color = 'r', label ='Exponential background model')\n",
    "n, bins, patches = plt.hist(higgs_mass1, 50, density=True, facecolor='g', alpha=0.75, label = 'Mass distribution')\n",
    "\n",
    "\n",
    "plt.xlabel('Mass')\n",
    "plt.ylabel('Probability')\n",
    "plt.title('Histogram distrubution of mass of a particle fitted with a model based on an exponential background')\n",
    "plt.legend()\n",
    "plt.show()\n",
    "    "
   ]
  },
  {
   "cell_type": "markdown",
   "id": "bba0fbcc",
   "metadata": {},
   "source": [
    "### part 2"
   ]
  },
  {
   "cell_type": "code",
   "execution_count": 10,
   "id": "dff867e7",
   "metadata": {},
   "outputs": [
    {
     "data": {
      "text/html": [
       "<table>\n",
       "    <tr>\n",
       "        <th colspan=\"5\" style=\"text-align:center\" title=\"Minimizer\"> Migrad </th>\n",
       "    </tr>\n",
       "    <tr>\n",
       "        <td colspan=\"2\" style=\"text-align:left\" title=\"Minimum value of function\"> FCN = 2.146e+05 </td>\n",
       "        <td colspan=\"3\" style=\"text-align:center\" title=\"Total number of function and (optional) gradient evaluations\"> Nfcn = 132 </td>\n",
       "    </tr>\n",
       "    <tr>\n",
       "        <td colspan=\"2\" style=\"text-align:left\" title=\"Estimated distance to minimum and goal\"> EDM = 1.45e-06 (Goal: 0.0001) </td>\n",
       "        <td colspan=\"3\" style=\"text-align:center\" title=\"Total run time of algorithms\"> time = 1.8 sec </td>\n",
       "    </tr>\n",
       "    <tr>\n",
       "        <td colspan=\"2\" style=\"text-align:center;background-color:#92CCA6;color:black\"> Valid Minimum </td>\n",
       "        <td colspan=\"3\" style=\"text-align:center;background-color:#92CCA6;color:black\"> No Parameters at limit </td>\n",
       "    </tr>\n",
       "    <tr>\n",
       "        <td colspan=\"2\" style=\"text-align:center;background-color:#92CCA6;color:black\"> Below EDM threshold (goal x 10) </td>\n",
       "        <td colspan=\"3\" style=\"text-align:center;background-color:#92CCA6;color:black\"> Below call limit </td>\n",
       "    </tr>\n",
       "    <tr>\n",
       "        <td style=\"text-align:center;background-color:#92CCA6;color:black\"> Covariance </td>\n",
       "        <td style=\"text-align:center;background-color:#92CCA6;color:black\"> Hesse ok </td>\n",
       "        <td style=\"text-align:center;background-color:#92CCA6;color:black\" title=\"Is covariance matrix accurate?\"> Accurate </td>\n",
       "        <td style=\"text-align:center;background-color:#92CCA6;color:black\" title=\"Is covariance matrix positive definite?\"> Pos. def. </td>\n",
       "        <td style=\"text-align:center;background-color:#92CCA6;color:black\" title=\"Was positive definiteness enforced by Minuit?\"> Not forced </td>\n",
       "    </tr>\n",
       "</table><table>\n",
       "    <tr>\n",
       "        <td></td>\n",
       "        <th title=\"Variable name\"> Name </th>\n",
       "        <th title=\"Value of parameter\"> Value </th>\n",
       "        <th title=\"Hesse error\"> Hesse Error </th>\n",
       "        <th title=\"Minos lower error\"> Minos Error- </th>\n",
       "        <th title=\"Minos upper error\"> Minos Error+ </th>\n",
       "        <th title=\"Lower limit of the parameter\"> Limit- </th>\n",
       "        <th title=\"Upper limit of the parameter\"> Limit+ </th>\n",
       "        <th title=\"Is the parameter fixed in the fit\"> Fixed </th>\n",
       "    </tr>\n",
       "    <tr>\n",
       "        <th> 0 </th>\n",
       "        <td> b </td>\n",
       "        <td> -0.1578 </td>\n",
       "        <td> 0.0011 </td>\n",
       "        <td>  </td>\n",
       "        <td>  </td>\n",
       "        <td>  </td>\n",
       "        <td>  </td>\n",
       "        <td>  </td>\n",
       "    </tr>\n",
       "    <tr>\n",
       "        <th> 1 </th>\n",
       "        <td> c </td>\n",
       "        <td> 7.30e-3 </td>\n",
       "        <td> 0.12e-3 </td>\n",
       "        <td>  </td>\n",
       "        <td>  </td>\n",
       "        <td>  </td>\n",
       "        <td>  </td>\n",
       "        <td>  </td>\n",
       "    </tr>\n",
       "    <tr>\n",
       "        <th> 2 </th>\n",
       "        <td> M </td>\n",
       "        <td> 2.494 </td>\n",
       "        <td> 0.016 </td>\n",
       "        <td>  </td>\n",
       "        <td>  </td>\n",
       "        <td>  </td>\n",
       "        <td>  </td>\n",
       "        <td>  </td>\n",
       "    </tr>\n",
       "    <tr>\n",
       "        <th> 3 </th>\n",
       "        <td> f </td>\n",
       "        <td> 0.9820 </td>\n",
       "        <td> 0.0012 </td>\n",
       "        <td>  </td>\n",
       "        <td>  </td>\n",
       "        <td>  </td>\n",
       "        <td>  </td>\n",
       "        <td>  </td>\n",
       "    </tr>\n",
       "</table><table>\n",
       "    <tr>\n",
       "        <td></td>\n",
       "        <th> b </th>\n",
       "        <th> c </th>\n",
       "        <th> M </th>\n",
       "        <th> f </th>\n",
       "    </tr>\n",
       "    <tr>\n",
       "        <th> b </th>\n",
       "        <td> 1.14e-06 </td>\n",
       "        <td style=\"background-color:rgb(123,123,250);color:black\"> -1.23e-07 <strong>(-0.978)</strong> </td>\n",
       "        <td style=\"background-color:rgb(246,246,250);color:black\"> -5.72e-07 <strong>(-0.034)</strong> </td>\n",
       "        <td style=\"background-color:rgb(246,246,250);color:black\"> -3.44e-08 <strong>(-0.028)</strong> </td>\n",
       "    </tr>\n",
       "    <tr>\n",
       "        <th> c </th>\n",
       "        <td style=\"background-color:rgb(123,123,250);color:black\"> -1.23e-07 <strong>(-0.978)</strong> </td>\n",
       "        <td> 1.4e-08 </td>\n",
       "        <td style=\"background-color:rgb(250,245,245);color:black\"> 5.72e-08 <strong>(0.031)</strong> </td>\n",
       "        <td style=\"background-color:rgb(249,249,250);color:black\"> -6.66e-10 <strong>(-0.005)</strong> </td>\n",
       "    </tr>\n",
       "    <tr>\n",
       "        <th> M </th>\n",
       "        <td style=\"background-color:rgb(246,246,250);color:black\"> -5.72e-07 <strong>(-0.034)</strong> </td>\n",
       "        <td style=\"background-color:rgb(250,245,245);color:black\"> 5.72e-08 <strong>(0.031)</strong> </td>\n",
       "        <td> 0.000244 </td>\n",
       "        <td style=\"background-color:rgb(250,244,244);color:black\"> 7.04e-07 <strong>(0.039)</strong> </td>\n",
       "    </tr>\n",
       "    <tr>\n",
       "        <th> f </th>\n",
       "        <td style=\"background-color:rgb(246,246,250);color:black\"> -3.44e-08 <strong>(-0.028)</strong> </td>\n",
       "        <td style=\"background-color:rgb(249,249,250);color:black\"> -6.66e-10 <strong>(-0.005)</strong> </td>\n",
       "        <td style=\"background-color:rgb(250,244,244);color:black\"> 7.04e-07 <strong>(0.039)</strong> </td>\n",
       "        <td> 1.35e-06 </td>\n",
       "    </tr>\n",
       "</table>"
      ],
      "text/plain": [
       "┌─────────────────────────────────────────────────────────────────────────┐\n",
       "│                                Migrad                                   │\n",
       "├──────────────────────────────────┬──────────────────────────────────────┤\n",
       "│ FCN = 2.146e+05                  │              Nfcn = 132              │\n",
       "│ EDM = 1.45e-06 (Goal: 0.0001)    │            time = 1.8 sec            │\n",
       "├──────────────────────────────────┼──────────────────────────────────────┤\n",
       "│          Valid Minimum           │        No Parameters at limit        │\n",
       "├──────────────────────────────────┼──────────────────────────────────────┤\n",
       "│ Below EDM threshold (goal x 10)  │           Below call limit           │\n",
       "├───────────────┬──────────────────┼───────────┬─────────────┬────────────┤\n",
       "│  Covariance   │     Hesse ok     │ Accurate  │  Pos. def.  │ Not forced │\n",
       "└───────────────┴──────────────────┴───────────┴─────────────┴────────────┘\n",
       "┌───┬──────┬───────────┬───────────┬────────────┬────────────┬─────────┬─────────┬───────┐\n",
       "│   │ Name │   Value   │ Hesse Err │ Minos Err- │ Minos Err+ │ Limit-  │ Limit+  │ Fixed │\n",
       "├───┼──────┼───────────┼───────────┼────────────┼────────────┼─────────┼─────────┼───────┤\n",
       "│ 0 │ b    │  -0.1578  │  0.0011   │            │            │         │         │       │\n",
       "│ 1 │ c    │  7.30e-3  │  0.12e-3  │            │            │         │         │       │\n",
       "│ 2 │ M    │   2.494   │   0.016   │            │            │         │         │       │\n",
       "│ 3 │ f    │  0.9820   │  0.0012   │            │            │         │         │       │\n",
       "└───┴──────┴───────────┴───────────┴────────────┴────────────┴─────────┴─────────┴───────┘\n",
       "┌───┬─────────────────────────────────────────┐\n",
       "│   │         b         c         M         f │\n",
       "├───┼─────────────────────────────────────────┤\n",
       "│ b │  1.14e-06 -1.23e-07 -5.72e-07 -3.44e-08 │\n",
       "│ c │ -1.23e-07   1.4e-08  5.72e-08 -6.66e-10 │\n",
       "│ M │ -5.72e-07  5.72e-08  0.000244  7.04e-07 │\n",
       "│ f │ -3.44e-08 -6.66e-10  7.04e-07  1.35e-06 │\n",
       "└───┴─────────────────────────────────────────┘"
      ]
     },
     "execution_count": 10,
     "metadata": {},
     "output_type": "execute_result"
    }
   ],
   "source": [
    "startvals ={'b' : -0.016, 'c' : 0.007 ,'M' : 2.5, 'f' : 0.98 }\n",
    "m2 = Minuit(pdf1.fit_2, **startvals)\n",
    "m2.errordef = 0.5\n",
    "m2.migrad()  "
   ]
  },
  {
   "cell_type": "code",
   "execution_count": 11,
   "id": "7ce7fbd8",
   "metadata": {},
   "outputs": [],
   "source": [
    "poly_params= list(m2.values)"
   ]
  },
  {
   "cell_type": "code",
   "execution_count": 12,
   "id": "0bbf89e6",
   "metadata": {},
   "outputs": [],
   "source": [
    "poly_params_err = list(m2.errors)"
   ]
  },
  {
   "cell_type": "code",
   "execution_count": 13,
   "id": "fce6a747",
   "metadata": {},
   "outputs": [],
   "source": [
    "sys_err1 = abs(poly_params[2] - expo_params[2]) # gives a gauge of the systematic error on the mean of the Gaussian peak\n"
   ]
  },
  {
   "cell_type": "markdown",
   "id": "02c499a3",
   "metadata": {},
   "source": [
    "The best fit values for the mass distribution modelled by a second order polynomial and a Gaussian peak are:\n",
    "<ul>\n",
    "    <li> Second coefficient of polynomial = -0.158 ± 0.001 </li>\n",
    "    <li> Third coeffcient of polynomial = 0.0073 ± 0.0001 </li>\n",
    "    <li> Fraction of background signal = 0.982 ± 0.001 </li>\n",
    "</ul>\n",
    "\n",
    "The value of the mean can now be stated taking into account some measure of its systematic error. \n",
    "The mean of the Gaussian signal is; M = 2.49 ± 0.02 ± 0.004\n",
    "\n",
    "By adding the errors in quadrature, the mean can be stated as;\n",
    "M = 2.49 ± 0.02\n",
    "\n",
    "Since, the systematic error is much less than the statistical error, one can be confident in the measured mean parameter.\n",
    "\n",
    "\n",
    "Using the exponential model to give the value of the mean: M = 2.50 ± 0.01 ± 0.004 ; M = 2.50 ± 0.01"
   ]
  },
  {
   "cell_type": "code",
   "execution_count": 14,
   "id": "75436c05",
   "metadata": {},
   "outputs": [
    {
     "data": {
      "image/png": "[encoded data removed]",
      "text/plain": [
       "<Figure size 640x480 with 1 Axes>"
      ]
     },
     "metadata": {},
     "output_type": "display_data"
    }
   ],
   "source": [
    "plt.scatter(pdf1.mass, pdf1.gauss_poly, color = 'r', label ='2nd order polynomial background model')\n",
    "n, bins, patches = plt.hist(higgs_mass1, 50, density=True, facecolor='g', alpha=0.75, label = 'Mass distribution')\n",
    "\n",
    "\n",
    "plt.xlabel('Mass')\n",
    "plt.ylabel('Probability')\n",
    "plt.title('Histogram distrubution of mass of a particle fitted with a model based on a 2nd order polynomial background')\n",
    "plt.legend()\n",
    "plt.show()\n",
    "    "
   ]
  },
  {
   "cell_type": "markdown",
   "id": "027ed0b9",
   "metadata": {},
   "source": [
    "### Part 3"
   ]
  },
  {
   "cell_type": "code",
   "execution_count": 15,
   "id": "11d164d5",
   "metadata": {},
   "outputs": [
    {
     "data": {
      "text/html": [
       "<table>\n",
       "    <tr>\n",
       "        <th colspan=\"5\" style=\"text-align:center\" title=\"Minimizer\"> Migrad </th>\n",
       "    </tr>\n",
       "    <tr>\n",
       "        <td colspan=\"2\" style=\"text-align:left\" title=\"Minimum value of function\"> FCN = 2.155e+05 </td>\n",
       "        <td colspan=\"3\" style=\"text-align:center\" title=\"Total number of function and (optional) gradient evaluations\"> Nfcn = 50 </td>\n",
       "    </tr>\n",
       "    <tr>\n",
       "        <td colspan=\"2\" style=\"text-align:left\" title=\"Estimated distance to minimum and goal\"> EDM = 3.95e-06 (Goal: 0.0001) </td>\n",
       "        <td colspan=\"3\" style=\"text-align:center\" title=\"Total run time of algorithms\"> time = 0.7 sec </td>\n",
       "    </tr>\n",
       "    <tr>\n",
       "        <td colspan=\"2\" style=\"text-align:center;background-color:#92CCA6;color:black\"> Valid Minimum </td>\n",
       "        <td colspan=\"3\" style=\"text-align:center;background-color:#92CCA6;color:black\"> No Parameters at limit </td>\n",
       "    </tr>\n",
       "    <tr>\n",
       "        <td colspan=\"2\" style=\"text-align:center;background-color:#92CCA6;color:black\"> Below EDM threshold (goal x 10) </td>\n",
       "        <td colspan=\"3\" style=\"text-align:center;background-color:#92CCA6;color:black\"> Below call limit </td>\n",
       "    </tr>\n",
       "    <tr>\n",
       "        <td style=\"text-align:center;background-color:#92CCA6;color:black\"> Covariance </td>\n",
       "        <td style=\"text-align:center;background-color:#92CCA6;color:black\"> Hesse ok </td>\n",
       "        <td style=\"text-align:center;background-color:#92CCA6;color:black\" title=\"Is covariance matrix accurate?\"> Accurate </td>\n",
       "        <td style=\"text-align:center;background-color:#92CCA6;color:black\" title=\"Is covariance matrix positive definite?\"> Pos. def. </td>\n",
       "        <td style=\"text-align:center;background-color:#92CCA6;color:black\" title=\"Was positive definiteness enforced by Minuit?\"> Not forced </td>\n",
       "    </tr>\n",
       "</table><table>\n",
       "    <tr>\n",
       "        <td></td>\n",
       "        <th title=\"Variable name\"> Name </th>\n",
       "        <th title=\"Value of parameter\"> Value </th>\n",
       "        <th title=\"Hesse error\"> Hesse Error </th>\n",
       "        <th title=\"Minos lower error\"> Minos Error- </th>\n",
       "        <th title=\"Minos upper error\"> Minos Error+ </th>\n",
       "        <th title=\"Lower limit of the parameter\"> Limit- </th>\n",
       "        <th title=\"Upper limit of the parameter\"> Limit+ </th>\n",
       "        <th title=\"Is the parameter fixed in the fit\"> Fixed </th>\n",
       "    </tr>\n",
       "    <tr>\n",
       "        <th> 0 </th>\n",
       "        <td> b </td>\n",
       "        <td> -90.41e-3 </td>\n",
       "        <td> 0.22e-3 </td>\n",
       "        <td>  </td>\n",
       "        <td>  </td>\n",
       "        <td>  </td>\n",
       "        <td>  </td>\n",
       "        <td>  </td>\n",
       "    </tr>\n",
       "    <tr>\n",
       "        <th> 1 </th>\n",
       "        <td> M </td>\n",
       "        <td> 2.465 </td>\n",
       "        <td> 0.015 </td>\n",
       "        <td>  </td>\n",
       "        <td>  </td>\n",
       "        <td>  </td>\n",
       "        <td>  </td>\n",
       "        <td>  </td>\n",
       "    </tr>\n",
       "    <tr>\n",
       "        <th> 2 </th>\n",
       "        <td> f </td>\n",
       "        <td> 0.9801 </td>\n",
       "        <td> 0.0012 </td>\n",
       "        <td>  </td>\n",
       "        <td>  </td>\n",
       "        <td>  </td>\n",
       "        <td>  </td>\n",
       "        <td>  </td>\n",
       "    </tr>\n",
       "</table><table>\n",
       "    <tr>\n",
       "        <td></td>\n",
       "        <th> b </th>\n",
       "        <th> M </th>\n",
       "        <th> f </th>\n",
       "    </tr>\n",
       "    <tr>\n",
       "        <th> b </th>\n",
       "        <td> 4.97e-08 </td>\n",
       "        <td style=\"background-color:rgb(248,248,250);color:black\"> -5.11e-08 <strong>(-0.015)</strong> </td>\n",
       "        <td style=\"background-color:rgb(233,233,250);color:black\"> -3.36e-08 <strong>(-0.130)</strong> </td>\n",
       "    </tr>\n",
       "    <tr>\n",
       "        <th> M </th>\n",
       "        <td style=\"background-color:rgb(248,248,250);color:black\"> -5.11e-08 <strong>(-0.015)</strong> </td>\n",
       "        <td> 0.000229 </td>\n",
       "        <td style=\"background-color:rgb(250,245,245);color:black\"> 6.04e-07 <strong>(0.034)</strong> </td>\n",
       "    </tr>\n",
       "    <tr>\n",
       "        <th> f </th>\n",
       "        <td style=\"background-color:rgb(233,233,250);color:black\"> -3.36e-08 <strong>(-0.130)</strong> </td>\n",
       "        <td style=\"background-color:rgb(250,245,245);color:black\"> 6.04e-07 <strong>(0.034)</strong> </td>\n",
       "        <td> 1.35e-06 </td>\n",
       "    </tr>\n",
       "</table>"
      ],
      "text/plain": [
       "┌─────────────────────────────────────────────────────────────────────────┐\n",
       "│                                Migrad                                   │\n",
       "├──────────────────────────────────┬──────────────────────────────────────┤\n",
       "│ FCN = 2.155e+05                  │              Nfcn = 50               │\n",
       "│ EDM = 3.95e-06 (Goal: 0.0001)    │            time = 0.7 sec            │\n",
       "├──────────────────────────────────┼──────────────────────────────────────┤\n",
       "│          Valid Minimum           │        No Parameters at limit        │\n",
       "├──────────────────────────────────┼──────────────────────────────────────┤\n",
       "│ Below EDM threshold (goal x 10)  │           Below call limit           │\n",
       "├───────────────┬──────────────────┼───────────┬─────────────┬────────────┤\n",
       "│  Covariance   │     Hesse ok     │ Accurate  │  Pos. def.  │ Not forced │\n",
       "└───────────────┴──────────────────┴───────────┴─────────────┴────────────┘\n",
       "┌───┬──────┬───────────┬───────────┬────────────┬────────────┬─────────┬─────────┬───────┐\n",
       "│   │ Name │   Value   │ Hesse Err │ Minos Err- │ Minos Err+ │ Limit-  │ Limit+  │ Fixed │\n",
       "├───┼──────┼───────────┼───────────┼────────────┼────────────┼─────────┼─────────┼───────┤\n",
       "│ 0 │ b    │ -90.41e-3 │  0.22e-3  │            │            │         │         │       │\n",
       "│ 1 │ M    │   2.465   │   0.015   │            │            │         │         │       │\n",
       "│ 2 │ f    │  0.9801   │  0.0012   │            │            │         │         │       │\n",
       "└───┴──────┴───────────┴───────────┴────────────┴────────────┴─────────┴─────────┴───────┘\n",
       "┌───┬───────────────────────────────┐\n",
       "│   │         b         M         f │\n",
       "├───┼───────────────────────────────┤\n",
       "│ b │  4.97e-08 -5.11e-08 -3.36e-08 │\n",
       "│ M │ -5.11e-08  0.000229  6.04e-07 │\n",
       "│ f │ -3.36e-08  6.04e-07  1.35e-06 │\n",
       "└───┴───────────────────────────────┘"
      ]
     },
     "execution_count": 15,
     "metadata": {},
     "output_type": "execute_result"
    }
   ],
   "source": [
    "startvals ={'b' : -0.09, 'M' : 2.5 , 'f' : 0.98 }\n",
    "m3 = Minuit(pdf1.fit_3, **startvals)\n",
    "m3.errordef = 0.5\n",
    "m3.migrad()  "
   ]
  },
  {
   "cell_type": "code",
   "execution_count": 16,
   "id": "e7c4d416",
   "metadata": {},
   "outputs": [],
   "source": [
    "linear_params = list(m3.values)"
   ]
  },
  {
   "cell_type": "code",
   "execution_count": 17,
   "id": "a2cbc702",
   "metadata": {},
   "outputs": [],
   "source": [
    "linear_params_err = list(m3.errors)"
   ]
  },
  {
   "cell_type": "code",
   "execution_count": 18,
   "id": "02dae23a",
   "metadata": {},
   "outputs": [
    {
     "data": {
      "text/plain": [
       "<ValueView b=-0.09040502851072868 M=2.4654049677402585 f=0.9801233035480988>"
      ]
     },
     "execution_count": 18,
     "metadata": {},
     "output_type": "execute_result"
    }
   ],
   "source": [
    "m3.values"
   ]
  },
  {
   "cell_type": "code",
   "execution_count": 19,
   "id": "5e81a197",
   "metadata": {},
   "outputs": [
    {
     "data": {
      "text/plain": [
       "<ErrorView b=0.00022291013228074755 M=0.015138099762456685 f=0.00116149942060938>"
      ]
     },
     "execution_count": 19,
     "metadata": {},
     "output_type": "execute_result"
    }
   ],
   "source": [
    "m3.errors"
   ]
  },
  {
   "cell_type": "code",
   "execution_count": 20,
   "id": "8e9b6eb8",
   "metadata": {},
   "outputs": [],
   "source": [
    "#systematic error in mean is estimated by finding the maximum difference in mean using between the three models.\n",
    "sys_err2 = max(abs(poly_params[2] - expo_params[2]),abs(expo_params[2] - linear_params[1]), abs(poly_params[2]- linear_params[1]))\n",
    "#In this case, the systematic error is given by the difference between the mean of the best model and the mean of he worst model."
   ]
  },
  {
   "cell_type": "markdown",
   "id": "ad5d1f10",
   "metadata": {},
   "source": [
    "The best fit values for the mass distribution modelled by a linear background and a Gaussian peak are:\n",
    "<ul>\n",
    "    <li> Second coefficient of polynomial,b = -0.0904 ± 0.0002 </li> \n",
    "    <li> Fraction of background signal, f = 0.980 ± 0.001 </li>\n",
    "</ul>\n",
    "\n",
    "\n",
    "The mean of the Gaussian signal is; M = 2.47 ± 0.02 ± 0.03\n",
    "\n",
    "By adding the errors in quadrature, the mean can be stated as;\n",
    "M = 2.47 ± 0.04\n",
    "\n",
    "The systematic error was obtained from the difference in the best fit model(model with exponential background) and the worst fit model(model with linear background). In this case, the systematic error is greater than than the statistical error and, cannot be ignored. One would have to investigate ways to reduce uncertainty in the data collection process.\n",
    "\n",
    "Using the exponenetial model to give the value of the mean; M = 2.50 ± 0.01 ± 0.03; M = 2.50 ± 0.03"
   ]
  },
  {
   "cell_type": "code",
   "execution_count": 21,
   "id": "acec6bc1",
   "metadata": {
    "scrolled": false
   },
   "outputs": [
    {
     "data": {
      "image/png": "[encoded data removed]",
      "text/plain": [
       "<Figure size 640x480 with 1 Axes>"
      ]
     },
     "metadata": {},
     "output_type": "display_data"
    }
   ],
   "source": [
    "plt.scatter(pdf1.mass, pdf1.gauss_linear, color = 'r', label ='Linear background model')\n",
    "n, bins, patches = plt.hist(higgs_mass1, 50, density=True, facecolor='g', alpha=0.75, label = 'Mass distribution')\n",
    "\n",
    "\n",
    "plt.xlabel('Mass')\n",
    "plt.ylabel('Probability')\n",
    "plt.title('Histogram distrubution of mass of a particle fitted with a model based on a linear background')\n",
    "plt.legend()\n",
    "plt.show()\n",
    "    "
   ]
  }
 ],
 "metadata": {
  "kernelspec": {
   "display_name": "Python 3 (ipykernel)",
   "language": "python",
   "name": "python3"
  },
  "language_info": {
   "codemirror_mode": {
    "name": "ipython",
    "version": 3
   },
   "file_extension": ".py",
   "mimetype": "text/x-python",
   "name": "python",
   "nbconvert_exporter": "python",
   "pygments_lexer": "ipython3",
   "version": "3.9.13"
  }
 },
 "nbformat": 4,
 "nbformat_minor": 5
}
